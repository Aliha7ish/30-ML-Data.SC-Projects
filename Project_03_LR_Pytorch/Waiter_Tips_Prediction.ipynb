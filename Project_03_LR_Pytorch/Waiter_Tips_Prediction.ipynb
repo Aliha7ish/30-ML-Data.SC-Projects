{
 "cells": [
  {
   "cell_type": "code",
   "execution_count": 197,
   "id": "968ecde3-3d24-4d33-af55-b891d31da909",
   "metadata": {},
   "outputs": [],
   "source": [
    "import torch\n",
    "import torch.nn as nn\n",
    "import torch.optim as optim\n",
    "import pandas as pd\n",
    "import numpy as np\n",
    "import seaborn as sns\n",
    "import matplotlib.pyplot as plt\n",
    "from sklearn.model_selection import train_test_split"
   ]
  },
  {
   "cell_type": "markdown",
   "id": "bb2d2c8e-50bd-4043-aa28-ba004be80e0f",
   "metadata": {},
   "source": [
    "# Data Exploratory and Analysis"
   ]
  },
  {
   "cell_type": "code",
   "execution_count": 164,
   "id": "887e0c42-a9f1-4ae1-8667-edcced03f95f",
   "metadata": {},
   "outputs": [
    {
     "data": {
      "text/html": [
       "<div>\n",
       "<style scoped>\n",
       "    .dataframe tbody tr th:only-of-type {\n",
       "        vertical-align: middle;\n",
       "    }\n",
       "\n",
       "    .dataframe tbody tr th {\n",
       "        vertical-align: top;\n",
       "    }\n",
       "\n",
       "    .dataframe thead th {\n",
       "        text-align: right;\n",
       "    }\n",
       "</style>\n",
       "<table border=\"1\" class=\"dataframe\">\n",
       "  <thead>\n",
       "    <tr style=\"text-align: right;\">\n",
       "      <th></th>\n",
       "      <th>total_bill</th>\n",
       "      <th>tip</th>\n",
       "      <th>sex</th>\n",
       "      <th>smoker</th>\n",
       "      <th>day</th>\n",
       "      <th>time</th>\n",
       "      <th>size</th>\n",
       "    </tr>\n",
       "  </thead>\n",
       "  <tbody>\n",
       "    <tr>\n",
       "      <th>0</th>\n",
       "      <td>16.99</td>\n",
       "      <td>1.01</td>\n",
       "      <td>Female</td>\n",
       "      <td>No</td>\n",
       "      <td>Sun</td>\n",
       "      <td>Dinner</td>\n",
       "      <td>2</td>\n",
       "    </tr>\n",
       "    <tr>\n",
       "      <th>1</th>\n",
       "      <td>10.34</td>\n",
       "      <td>1.66</td>\n",
       "      <td>Male</td>\n",
       "      <td>No</td>\n",
       "      <td>Sun</td>\n",
       "      <td>Dinner</td>\n",
       "      <td>3</td>\n",
       "    </tr>\n",
       "    <tr>\n",
       "      <th>2</th>\n",
       "      <td>21.01</td>\n",
       "      <td>3.50</td>\n",
       "      <td>Male</td>\n",
       "      <td>No</td>\n",
       "      <td>Sun</td>\n",
       "      <td>Dinner</td>\n",
       "      <td>3</td>\n",
       "    </tr>\n",
       "    <tr>\n",
       "      <th>3</th>\n",
       "      <td>23.68</td>\n",
       "      <td>3.31</td>\n",
       "      <td>Male</td>\n",
       "      <td>No</td>\n",
       "      <td>Sun</td>\n",
       "      <td>Dinner</td>\n",
       "      <td>2</td>\n",
       "    </tr>\n",
       "    <tr>\n",
       "      <th>4</th>\n",
       "      <td>24.59</td>\n",
       "      <td>3.61</td>\n",
       "      <td>Female</td>\n",
       "      <td>No</td>\n",
       "      <td>Sun</td>\n",
       "      <td>Dinner</td>\n",
       "      <td>4</td>\n",
       "    </tr>\n",
       "  </tbody>\n",
       "</table>\n",
       "</div>"
      ],
      "text/plain": [
       "   total_bill   tip     sex smoker  day    time  size\n",
       "0       16.99  1.01  Female     No  Sun  Dinner     2\n",
       "1       10.34  1.66    Male     No  Sun  Dinner     3\n",
       "2       21.01  3.50    Male     No  Sun  Dinner     3\n",
       "3       23.68  3.31    Male     No  Sun  Dinner     2\n",
       "4       24.59  3.61  Female     No  Sun  Dinner     4"
      ]
     },
     "execution_count": 164,
     "metadata": {},
     "output_type": "execute_result"
    }
   ],
   "source": [
    "dict_type = {\n",
    "    \"sex\": \"category\",\n",
    "    \"smoker\": \"category\",\n",
    "    \"day\": \"category\",\n",
    "    \"time\": \"category\"\n",
    "}\n",
    "\n",
    "# read data\n",
    "df = pd.read_csv(\"./data/tips.csv\", dtype = dict_type)\n",
    "\n",
    "# print first 5 rows\n",
    "df.head()"
   ]
  },
  {
   "cell_type": "code",
   "execution_count": 165,
   "id": "e5acfc9d-2ffc-465b-962c-ab0ee516f3b0",
   "metadata": {},
   "outputs": [
    {
     "name": "stdout",
     "output_type": "stream",
     "text": [
      "<class 'pandas.core.frame.DataFrame'>\n",
      "RangeIndex: 244 entries, 0 to 243\n",
      "Data columns (total 7 columns):\n",
      " #   Column      Non-Null Count  Dtype   \n",
      "---  ------      --------------  -----   \n",
      " 0   total_bill  244 non-null    float64 \n",
      " 1   tip         244 non-null    float64 \n",
      " 2   sex         244 non-null    category\n",
      " 3   smoker      244 non-null    category\n",
      " 4   day         244 non-null    category\n",
      " 5   time        244 non-null    category\n",
      " 6   size        244 non-null    int64   \n",
      "dtypes: category(4), float64(2), int64(1)\n",
      "memory usage: 7.0 KB\n"
     ]
    }
   ],
   "source": [
    "# info about data \n",
    "df.info()"
   ]
  },
  {
   "cell_type": "code",
   "execution_count": 166,
   "id": "3f69e968-86c3-4689-a2a5-b91606dfdf8e",
   "metadata": {},
   "outputs": [
    {
     "data": {
      "text/plain": [
       "total_bill     float64\n",
       "tip            float64\n",
       "sex           category\n",
       "smoker        category\n",
       "day           category\n",
       "time          category\n",
       "size             int64\n",
       "dtype: object"
      ]
     },
     "execution_count": 166,
     "metadata": {},
     "output_type": "execute_result"
    }
   ],
   "source": [
    "# dtypes of columns\n",
    "df.dtypes"
   ]
  },
  {
   "cell_type": "code",
   "execution_count": 167,
   "id": "5fa9eddb-d013-45f1-937d-ad57bbdb39c5",
   "metadata": {},
   "outputs": [
    {
     "data": {
      "text/plain": [
       "total_bill    0\n",
       "tip           0\n",
       "sex           0\n",
       "smoker        0\n",
       "day           0\n",
       "time          0\n",
       "size          0\n",
       "dtype: int64"
      ]
     },
     "execution_count": 167,
     "metadata": {},
     "output_type": "execute_result"
    }
   ],
   "source": [
    "# checking for missing values\n",
    "df.isna().sum()"
   ]
  },
  {
   "cell_type": "code",
   "execution_count": 168,
   "id": "0b54e785-7f55-4ead-9315-2fbef6eb142d",
   "metadata": {},
   "outputs": [
    {
     "data": {
      "text/plain": [
       "1"
      ]
     },
     "execution_count": 168,
     "metadata": {},
     "output_type": "execute_result"
    }
   ],
   "source": [
    "# checking for duplicates\n",
    "df.duplicated().sum()"
   ]
  },
  {
   "cell_type": "code",
   "execution_count": 169,
   "id": "5d335663-1465-4b29-98ce-a856ceb45f36",
   "metadata": {},
   "outputs": [
    {
     "data": {
      "text/plain": [
       "0"
      ]
     },
     "execution_count": 169,
     "metadata": {},
     "output_type": "execute_result"
    }
   ],
   "source": [
    "# removing duplicates\n",
    "df = df.drop_duplicates()\n",
    "\n",
    "# checking for duplicates one last time\n",
    "df.duplicated().sum()"
   ]
  },
  {
   "cell_type": "code",
   "execution_count": 170,
   "id": "2d61df5e-9eb0-43f8-a9a5-fe9a5fa72e64",
   "metadata": {},
   "outputs": [
    {
     "name": "stdout",
     "output_type": "stream",
     "text": [
      "Categories in sex are ['Female', 'Male']\n",
      "Categories in smoker are ['No', 'Yes']\n",
      "Categories in day are ['Fri', 'Sat', 'Sun', 'Thur']\n",
      "Categories in time are ['Dinner', 'Lunch']\n"
     ]
    }
   ],
   "source": [
    "# checking categories in each categorical column\n",
    "categorical_cols = list(df.select_dtypes(\"category\").columns)\n",
    "\n",
    "for col in categorical_cols:\n",
    "    print(f\"Categories in {col} are {list(df[col].cat.categories)}\")"
   ]
  },
  {
   "cell_type": "code",
   "execution_count": 171,
   "id": "52c87943-faba-4f43-a579-2af924accadb",
   "metadata": {},
   "outputs": [
    {
     "data": {
      "image/png": "[encoded data removed]",
      "text/plain": [
       "<Figure size 511.111x500 with 1 Axes>"
      ]
     },
     "metadata": {},
     "output_type": "display_data"
    }
   ],
   "source": [
    "# visualize the gender that has the most common tips given\n",
    "sns.catplot(x = \"sex\", data = df, kind = \"count\")\n",
    "plt.show()"
   ]
  },
  {
   "cell_type": "markdown",
   "id": "0f51b1a6-7da5-4169-96ea-d460ffc1f5c3",
   "metadata": {},
   "source": [
    "Number of Men tend to give tips is greater than women"
   ]
  },
  {
   "cell_type": "code",
   "execution_count": 172,
   "id": "e3be6fd8-b7b4-42fb-a6e7-44bb87bca54b",
   "metadata": {},
   "outputs": [
    {
     "data": {
      "image/png": "[encoded data removed]",
      "text/plain": [
       "<Figure size 572.125x500 with 1 Axes>"
      ]
     },
     "metadata": {},
     "output_type": "display_data"
    }
   ],
   "source": [
    "# given whether gender is a smoker or not\n",
    "sns.catplot(x = \"sex\", data = df, kind = \"count\", hue = \"smoker\", hue_order = {\"Yes\", \"No\"})\n",
    "plt.show()"
   ]
  },
  {
   "cell_type": "code",
   "execution_count": 173,
   "id": "8e694926-8719-4ae2-8920-33541c153744",
   "metadata": {},
   "outputs": [
    {
     "name": "stderr",
     "output_type": "stream",
     "text": [
      "C:\\Users\\Administrator\\AppData\\Local\\Temp\\ipykernel_12676\\3465760010.py:2: FutureWarning: The default of observed=False is deprecated and will be changed to True in a future version of pandas. Pass observed=False to retain current behavior or observed=True to adopt the future default and silence this warning.\n",
      "  avg_tips_per_gender = df.groupby([\"sex\", \"smoker\"])[\"tip\"].mean()\n"
     ]
    },
    {
     "data": {
      "text/plain": [
       "sex     smoker\n",
       "Female  No        2.773519\n",
       "        Yes       2.960625\n",
       "Male    No        3.113402\n",
       "        Yes       3.051167\n",
       "Name: tip, dtype: float64"
      ]
     },
     "execution_count": 173,
     "metadata": {},
     "output_type": "execute_result"
    }
   ],
   "source": [
    "# average tips given by gender impacted by being smoker or not\n",
    "avg_tips_per_gender = df.groupby([\"sex\", \"smoker\"])[\"tip\"].mean()\n",
    "avg_tips_per_gender"
   ]
  },
  {
   "cell_type": "code",
   "execution_count": 174,
   "id": "0a8a981c-60b6-41e3-9535-925e50fb4899",
   "metadata": {},
   "outputs": [
    {
     "data": {
      "image/png": "[encoded data removed]",
      "text/plain": [
       "<Figure size 511.111x500 with 1 Axes>"
      ]
     },
     "metadata": {},
     "output_type": "display_data"
    }
   ],
   "source": [
    "# Day that is mostly to be given tips at\n",
    "sns.catplot(x = \"day\", data = df, kind = \"count\")\n",
    "plt.show()"
   ]
  },
  {
   "cell_type": "code",
   "execution_count": 175,
   "id": "e6d30d45-317b-4022-85dc-a304bc0fa4b2",
   "metadata": {},
   "outputs": [
    {
     "data": {
      "image/png": "[encoded data removed]",
      "text/plain": [
       "<Figure size 558.875x500 with 1 Axes>"
      ]
     },
     "metadata": {},
     "output_type": "display_data"
    }
   ],
   "source": [
    "# Day that is mostly to be given tips at given size of people\n",
    "sns.catplot(x = \"day\", data = df, kind = \"count\", hue = \"size\")\n",
    "plt.show()"
   ]
  },
  {
   "cell_type": "markdown",
   "id": "562ff930-0f0d-4071-a17c-2871e6241922",
   "metadata": {},
   "source": [
    "Saturday is the most day people tend to give tips compared to the other days, and the group which tends to give tips frequently is group of 2 people and when the group size increases the propapility of them giving tips decreases"
   ]
  },
  {
   "cell_type": "code",
   "execution_count": 176,
   "id": "10b37187-7c99-4c72-9342-da17a6e38842",
   "metadata": {},
   "outputs": [
    {
     "data": {
      "image/png": "[encoded data removed]",
      "text/plain": [
       "<Figure size 500x500 with 1 Axes>"
      ]
     },
     "metadata": {},
     "output_type": "display_data"
    }
   ],
   "source": [
    "# Relationship between total bill and tip given\n",
    "sns.relplot(x = \"total_bill\", y = \"tip\", data = df, kind = \"scatter\")\n",
    "plt.show()"
   ]
  },
  {
   "cell_type": "markdown",
   "id": "b842ca9d-3a5f-43fb-a3fc-2618b667ef30",
   "metadata": {},
   "source": [
    "Positive correlation between group size and tips given as when group size increases the tip given increase"
   ]
  },
  {
   "cell_type": "code",
   "execution_count": 177,
   "id": "238182e5-904b-4c8d-9691-c0b7727bf1c7",
   "metadata": {},
   "outputs": [
    {
     "data": {
      "text/html": [
       "<div>\n",
       "<style scoped>\n",
       "    .dataframe tbody tr th:only-of-type {\n",
       "        vertical-align: middle;\n",
       "    }\n",
       "\n",
       "    .dataframe tbody tr th {\n",
       "        vertical-align: top;\n",
       "    }\n",
       "\n",
       "    .dataframe thead th {\n",
       "        text-align: right;\n",
       "    }\n",
       "</style>\n",
       "<table border=\"1\" class=\"dataframe\">\n",
       "  <thead>\n",
       "    <tr style=\"text-align: right;\">\n",
       "      <th></th>\n",
       "      <th>total_bill</th>\n",
       "      <th>tip</th>\n",
       "      <th>tip_percent</th>\n",
       "    </tr>\n",
       "  </thead>\n",
       "  <tbody>\n",
       "    <tr>\n",
       "      <th>0</th>\n",
       "      <td>16.99</td>\n",
       "      <td>1.01</td>\n",
       "      <td>5.944673</td>\n",
       "    </tr>\n",
       "    <tr>\n",
       "      <th>1</th>\n",
       "      <td>10.34</td>\n",
       "      <td>1.66</td>\n",
       "      <td>16.054159</td>\n",
       "    </tr>\n",
       "    <tr>\n",
       "      <th>2</th>\n",
       "      <td>21.01</td>\n",
       "      <td>3.50</td>\n",
       "      <td>16.658734</td>\n",
       "    </tr>\n",
       "    <tr>\n",
       "      <th>3</th>\n",
       "      <td>23.68</td>\n",
       "      <td>3.31</td>\n",
       "      <td>13.978041</td>\n",
       "    </tr>\n",
       "    <tr>\n",
       "      <th>4</th>\n",
       "      <td>24.59</td>\n",
       "      <td>3.61</td>\n",
       "      <td>14.680765</td>\n",
       "    </tr>\n",
       "  </tbody>\n",
       "</table>\n",
       "</div>"
      ],
      "text/plain": [
       "   total_bill   tip  tip_percent\n",
       "0       16.99  1.01     5.944673\n",
       "1       10.34  1.66    16.054159\n",
       "2       21.01  3.50    16.658734\n",
       "3       23.68  3.31    13.978041\n",
       "4       24.59  3.61    14.680765"
      ]
     },
     "execution_count": 177,
     "metadata": {},
     "output_type": "execute_result"
    }
   ],
   "source": [
    "# Tip percentage to Total bill\n",
    "df[\"tip_percent\"] = (df[\"tip\"] / df[\"total_bill\"]) * 100\n",
    "df[[\"total_bill\",\"tip\",\"tip_percent\"]].head()"
   ]
  },
  {
   "cell_type": "code",
   "execution_count": 178,
   "id": "92a4a6f4-b3c8-4fc8-a491-95c2e2444f3c",
   "metadata": {},
   "outputs": [
    {
     "data": {
      "text/plain": [
       "count    243.000000\n",
       "mean      16.083121\n",
       "std        6.119662\n",
       "min        3.563814\n",
       "25%       12.883281\n",
       "50%       15.521855\n",
       "75%       19.174638\n",
       "max       71.034483\n",
       "Name: tip_percent, dtype: float64"
      ]
     },
     "execution_count": 178,
     "metadata": {},
     "output_type": "execute_result"
    }
   ],
   "source": [
    "df[\"tip_percent\"].describe()"
   ]
  },
  {
   "cell_type": "code",
   "execution_count": 179,
   "id": "9da7ee70-bf6d-46bc-86ba-4cb516634db9",
   "metadata": {},
   "outputs": [
    {
     "data": {
      "text/plain": [
       "size\n",
       "1    21.729202\n",
       "2    16.579579\n",
       "3    15.215685\n",
       "4    14.594901\n",
       "5    14.149549\n",
       "6    15.622920\n",
       "Name: tip_percent, dtype: float64"
      ]
     },
     "execution_count": 179,
     "metadata": {},
     "output_type": "execute_result"
    }
   ],
   "source": [
    "# Avg tip percentge to total_bill per Group size\n",
    "avg_tip_percent_gs = df.groupby(\"size\")[\"tip_percent\"].mean()\n",
    "avg_tip_percent_gs"
   ]
  },
  {
   "cell_type": "markdown",
   "id": "86710b36-6065-4859-aed5-a9b26188349f",
   "metadata": {},
   "source": [
    "Larger Groups tends to tip more in total but the tip percentage is less than when group size is small "
   ]
  },
  {
   "cell_type": "code",
   "execution_count": 180,
   "id": "37f3a54e-3027-49ce-ae25-4b27d1fe27b6",
   "metadata": {},
   "outputs": [
    {
     "data": {
      "image/png": "[encoded data removed]",
      "text/plain": [
       "<Figure size 640x480 with 2 Axes>"
      ]
     },
     "metadata": {},
     "output_type": "display_data"
    }
   ],
   "source": [
    "# correlation between total bill, tip and size\n",
    "sns.heatmap(df[[\"total_bill\", \"tip\", \"size\"]].corr(), annot = True)\n",
    "plt.show()"
   ]
  },
  {
   "cell_type": "markdown",
   "id": "081b2c59-dc4a-4cf5-9908-f358c75eb878",
   "metadata": {},
   "source": [
    "From given heatmap we can derive that the correlation between Tip and Group Size is Medium Direct correlation so that Tip is more likely to be given when total bill increases as the Relation between both is Strong Direct Correlation "
   ]
  },
  {
   "cell_type": "code",
   "execution_count": 181,
   "id": "08811167-8472-40a0-b8c9-9e5b7f473368",
   "metadata": {},
   "outputs": [
    {
     "name": "stderr",
     "output_type": "stream",
     "text": [
      "C:\\Users\\Administrator\\AppData\\Local\\Temp\\ipykernel_12676\\261004158.py:2: FutureWarning: The default of observed=False is deprecated and will be changed to True in a future version of pandas. Pass observed=False to retain current behavior or observed=True to adopt the future default and silence this warning.\n",
      "  avg_tip_per_day = df.groupby(\"day\")[\"tip\"].mean()\n"
     ]
    },
    {
     "data": {
      "text/plain": [
       "day\n",
       "Fri     2.734737\n",
       "Sat     2.993103\n",
       "Sun     3.255132\n",
       "Thur    2.784098\n",
       "Name: tip, dtype: float64"
      ]
     },
     "execution_count": 181,
     "metadata": {},
     "output_type": "execute_result"
    }
   ],
   "source": [
    "# What day tends to have higher average tip given per day\n",
    "avg_tip_per_day = df.groupby(\"day\")[\"tip\"].mean()\n",
    "avg_tip_per_day"
   ]
  },
  {
   "cell_type": "markdown",
   "id": "9aed3109-079f-40ed-a097-efbb93619d48",
   "metadata": {},
   "source": [
    "Sunday has the highest average tip given per day (3.25) and they tend to tip more on weekends"
   ]
  },
  {
   "cell_type": "code",
   "execution_count": 182,
   "id": "95f83f76-5cb1-475a-97ac-f12c51867b3a",
   "metadata": {},
   "outputs": [
    {
     "name": "stderr",
     "output_type": "stream",
     "text": [
      "C:\\Users\\Administrator\\AppData\\Local\\Temp\\ipykernel_12676\\364847705.py:2: FutureWarning: The default of observed=False is deprecated and will be changed to True in a future version of pandas. Pass observed=False to retain current behavior or observed=True to adopt the future default and silence this warning.\n",
      "  avg_gs_per_day = df.groupby(\"day\")[\"size\"].mean()\n"
     ]
    },
    {
     "data": {
      "text/plain": [
       "day\n",
       "Fri     2.105263\n",
       "Sat     2.517241\n",
       "Sun     2.842105\n",
       "Thur    2.459016\n",
       "Name: size, dtype: float64"
      ]
     },
     "execution_count": 182,
     "metadata": {},
     "output_type": "execute_result"
    }
   ],
   "source": [
    "# group size influence per day\n",
    "avg_gs_per_day = df.groupby(\"day\")[\"size\"].mean()\n",
    "avg_gs_per_day"
   ]
  },
  {
   "cell_type": "markdown",
   "id": "9cfdc7ec-29a3-4634-b2c3-0121125faec9",
   "metadata": {},
   "source": [
    "Larger groups tends to attend at weekends (Sunday and Saturday)"
   ]
  },
  {
   "cell_type": "code",
   "execution_count": 183,
   "id": "3f7fcfe4-4b35-414a-ac58-39169d65daa1",
   "metadata": {},
   "outputs": [
    {
     "data": {
      "text/html": [
       "<div>\n",
       "<style scoped>\n",
       "    .dataframe tbody tr th:only-of-type {\n",
       "        vertical-align: middle;\n",
       "    }\n",
       "\n",
       "    .dataframe tbody tr th {\n",
       "        vertical-align: top;\n",
       "    }\n",
       "\n",
       "    .dataframe thead th {\n",
       "        text-align: right;\n",
       "    }\n",
       "</style>\n",
       "<table border=\"1\" class=\"dataframe\">\n",
       "  <thead>\n",
       "    <tr style=\"text-align: right;\">\n",
       "      <th></th>\n",
       "      <th>total_bill</th>\n",
       "      <th>tip</th>\n",
       "      <th>size</th>\n",
       "      <th>tip_percent</th>\n",
       "    </tr>\n",
       "  </thead>\n",
       "  <tbody>\n",
       "    <tr>\n",
       "      <th>count</th>\n",
       "      <td>243.000000</td>\n",
       "      <td>243.000000</td>\n",
       "      <td>243.000000</td>\n",
       "      <td>243.000000</td>\n",
       "    </tr>\n",
       "    <tr>\n",
       "      <th>mean</th>\n",
       "      <td>19.813868</td>\n",
       "      <td>3.002387</td>\n",
       "      <td>2.572016</td>\n",
       "      <td>16.083121</td>\n",
       "    </tr>\n",
       "    <tr>\n",
       "      <th>std</th>\n",
       "      <td>8.910071</td>\n",
       "      <td>1.385002</td>\n",
       "      <td>0.952356</td>\n",
       "      <td>6.119662</td>\n",
       "    </tr>\n",
       "    <tr>\n",
       "      <th>min</th>\n",
       "      <td>3.070000</td>\n",
       "      <td>1.000000</td>\n",
       "      <td>1.000000</td>\n",
       "      <td>3.563814</td>\n",
       "    </tr>\n",
       "    <tr>\n",
       "      <th>25%</th>\n",
       "      <td>13.380000</td>\n",
       "      <td>2.000000</td>\n",
       "      <td>2.000000</td>\n",
       "      <td>12.883281</td>\n",
       "    </tr>\n",
       "    <tr>\n",
       "      <th>50%</th>\n",
       "      <td>17.810000</td>\n",
       "      <td>2.920000</td>\n",
       "      <td>2.000000</td>\n",
       "      <td>15.521855</td>\n",
       "    </tr>\n",
       "    <tr>\n",
       "      <th>75%</th>\n",
       "      <td>24.175000</td>\n",
       "      <td>3.575000</td>\n",
       "      <td>3.000000</td>\n",
       "      <td>19.174638</td>\n",
       "    </tr>\n",
       "    <tr>\n",
       "      <th>max</th>\n",
       "      <td>50.810000</td>\n",
       "      <td>10.000000</td>\n",
       "      <td>6.000000</td>\n",
       "      <td>71.034483</td>\n",
       "    </tr>\n",
       "  </tbody>\n",
       "</table>\n",
       "</div>"
      ],
      "text/plain": [
       "       total_bill         tip        size  tip_percent\n",
       "count  243.000000  243.000000  243.000000   243.000000\n",
       "mean    19.813868    3.002387    2.572016    16.083121\n",
       "std      8.910071    1.385002    0.952356     6.119662\n",
       "min      3.070000    1.000000    1.000000     3.563814\n",
       "25%     13.380000    2.000000    2.000000    12.883281\n",
       "50%     17.810000    2.920000    2.000000    15.521855\n",
       "75%     24.175000    3.575000    3.000000    19.174638\n",
       "max     50.810000   10.000000    6.000000    71.034483"
      ]
     },
     "execution_count": 183,
     "metadata": {},
     "output_type": "execute_result"
    }
   ],
   "source": [
    "# quich summary stats\n",
    "df.describe()"
   ]
  },
  {
   "cell_type": "markdown",
   "id": "71152770-8f0b-4ece-943c-dc6c47ba692a",
   "metadata": {},
   "source": [
    "Values in each Feature differs in range as Size ranges from (1 - 6), Tip (1 - 10) and Total bill (3 - 50)"
   ]
  },
  {
   "cell_type": "code",
   "execution_count": 184,
   "id": "fa5df72b-e940-4c04-b1e3-90386347c4d5",
   "metadata": {},
   "outputs": [
    {
     "name": "stderr",
     "output_type": "stream",
     "text": [
      "C:\\ProgramData\\anaconda3\\Lib\\site-packages\\seaborn\\axisgrid.py:1513: FutureWarning: \n",
      "\n",
      "`shade` is now deprecated in favor of `fill`; setting `fill=True`.\n",
      "This will become an error in seaborn v0.14.0; please update your code.\n",
      "\n",
      "  func(x=vector, **plot_kwargs)\n",
      "C:\\ProgramData\\anaconda3\\Lib\\site-packages\\seaborn\\axisgrid.py:1513: FutureWarning: \n",
      "\n",
      "`shade` is now deprecated in favor of `fill`; setting `fill=True`.\n",
      "This will become an error in seaborn v0.14.0; please update your code.\n",
      "\n",
      "  func(x=vector, **plot_kwargs)\n",
      "C:\\ProgramData\\anaconda3\\Lib\\site-packages\\seaborn\\axisgrid.py:1513: FutureWarning: \n",
      "\n",
      "`shade` is now deprecated in favor of `fill`; setting `fill=True`.\n",
      "This will become an error in seaborn v0.14.0; please update your code.\n",
      "\n",
      "  func(x=vector, **plot_kwargs)\n"
     ]
    },
    {
     "data": {
      "image/png": "[encoded data removed]",
      "text/plain": [
       "<Figure size 972x540 with 12 Axes>"
      ]
     },
     "metadata": {},
     "output_type": "display_data"
    }
   ],
   "source": [
    "# Pairplot to viualize the relations and distributions of numerical features\n",
    "cols_viz = ['total_bill', 'size', \"tip\"]\n",
    "pp = sns.pairplot(df[cols_viz], height=1.8, aspect=1.8,\n",
    "                  plot_kws=dict(edgecolor=\"k\", linewidth=0.5),\n",
    "                  diag_kind=\"kde\", diag_kws=dict(shade=True))\n",
    "\n",
    "plt.show()"
   ]
  },
  {
   "cell_type": "markdown",
   "id": "62ac5bdd-e318-4e06-84c1-5470b8e484ff",
   "metadata": {},
   "source": [
    "# Data preparation"
   ]
  },
  {
   "cell_type": "markdown",
   "id": "382d34ef-eb4c-4a84-9f3e-e562e9260e14",
   "metadata": {},
   "source": [
    "we will perform feature engineering as Categorical features will be converted to binary vectors before being fed to The model, the method will be used is One-Hot encoding "
   ]
  },
  {
   "cell_type": "code",
   "execution_count": 185,
   "id": "2018b711-cbe8-4b6f-9bcc-c4c896e5c5e7",
   "metadata": {},
   "outputs": [
    {
     "data": {
      "text/html": [
       "<div>\n",
       "<style scoped>\n",
       "    .dataframe tbody tr th:only-of-type {\n",
       "        vertical-align: middle;\n",
       "    }\n",
       "\n",
       "    .dataframe tbody tr th {\n",
       "        vertical-align: top;\n",
       "    }\n",
       "\n",
       "    .dataframe thead th {\n",
       "        text-align: right;\n",
       "    }\n",
       "</style>\n",
       "<table border=\"1\" class=\"dataframe\">\n",
       "  <thead>\n",
       "    <tr style=\"text-align: right;\">\n",
       "      <th></th>\n",
       "      <th>total_bill</th>\n",
       "      <th>tip</th>\n",
       "      <th>size</th>\n",
       "      <th>tip_percent</th>\n",
       "      <th>sex_Male</th>\n",
       "      <th>smoker_Yes</th>\n",
       "      <th>day_Sat</th>\n",
       "      <th>day_Sun</th>\n",
       "      <th>day_Thur</th>\n",
       "      <th>time_Lunch</th>\n",
       "    </tr>\n",
       "  </thead>\n",
       "  <tbody>\n",
       "    <tr>\n",
       "      <th>0</th>\n",
       "      <td>16.99</td>\n",
       "      <td>1.01</td>\n",
       "      <td>2</td>\n",
       "      <td>5.944673</td>\n",
       "      <td>False</td>\n",
       "      <td>False</td>\n",
       "      <td>False</td>\n",
       "      <td>True</td>\n",
       "      <td>False</td>\n",
       "      <td>False</td>\n",
       "    </tr>\n",
       "    <tr>\n",
       "      <th>1</th>\n",
       "      <td>10.34</td>\n",
       "      <td>1.66</td>\n",
       "      <td>3</td>\n",
       "      <td>16.054159</td>\n",
       "      <td>True</td>\n",
       "      <td>False</td>\n",
       "      <td>False</td>\n",
       "      <td>True</td>\n",
       "      <td>False</td>\n",
       "      <td>False</td>\n",
       "    </tr>\n",
       "    <tr>\n",
       "      <th>2</th>\n",
       "      <td>21.01</td>\n",
       "      <td>3.50</td>\n",
       "      <td>3</td>\n",
       "      <td>16.658734</td>\n",
       "      <td>True</td>\n",
       "      <td>False</td>\n",
       "      <td>False</td>\n",
       "      <td>True</td>\n",
       "      <td>False</td>\n",
       "      <td>False</td>\n",
       "    </tr>\n",
       "    <tr>\n",
       "      <th>3</th>\n",
       "      <td>23.68</td>\n",
       "      <td>3.31</td>\n",
       "      <td>2</td>\n",
       "      <td>13.978041</td>\n",
       "      <td>True</td>\n",
       "      <td>False</td>\n",
       "      <td>False</td>\n",
       "      <td>True</td>\n",
       "      <td>False</td>\n",
       "      <td>False</td>\n",
       "    </tr>\n",
       "    <tr>\n",
       "      <th>4</th>\n",
       "      <td>24.59</td>\n",
       "      <td>3.61</td>\n",
       "      <td>4</td>\n",
       "      <td>14.680765</td>\n",
       "      <td>False</td>\n",
       "      <td>False</td>\n",
       "      <td>False</td>\n",
       "      <td>True</td>\n",
       "      <td>False</td>\n",
       "      <td>False</td>\n",
       "    </tr>\n",
       "  </tbody>\n",
       "</table>\n",
       "</div>"
      ],
      "text/plain": [
       "   total_bill   tip  size  tip_percent  sex_Male  smoker_Yes  day_Sat  \\\n",
       "0       16.99  1.01     2     5.944673     False       False    False   \n",
       "1       10.34  1.66     3    16.054159      True       False    False   \n",
       "2       21.01  3.50     3    16.658734      True       False    False   \n",
       "3       23.68  3.31     2    13.978041      True       False    False   \n",
       "4       24.59  3.61     4    14.680765     False       False    False   \n",
       "\n",
       "   day_Sun  day_Thur  time_Lunch  \n",
       "0     True     False       False  \n",
       "1     True     False       False  \n",
       "2     True     False       False  \n",
       "3     True     False       False  \n",
       "4     True     False       False  "
      ]
     },
     "execution_count": 185,
     "metadata": {},
     "output_type": "execute_result"
    }
   ],
   "source": [
    "# selecting numerical features\n",
    "numerical_features = df.select_dtypes(include=['number'])\n",
    "\n",
    "# selecting categorical features\n",
    "categorical_features = df.select_dtypes(include=['category'])\n",
    "\n",
    "# convert categorical features into one-hot encoded vectors (true / false)\n",
    "categorical_df = pd.get_dummies(categorical_features, drop_first=True)\n",
    "\n",
    "# Concatenate numerical and categorical features\n",
    "df = pd.concat([numerical_features, categorical_df], axis=1)\n",
    "\n",
    "df.head()"
   ]
  },
  {
   "cell_type": "code",
   "execution_count": 187,
   "id": "997c0455-ff3e-4813-b87c-760b64a8916d",
   "metadata": {},
   "outputs": [
    {
     "data": {
      "text/html": [
       "<div>\n",
       "<style scoped>\n",
       "    .dataframe tbody tr th:only-of-type {\n",
       "        vertical-align: middle;\n",
       "    }\n",
       "\n",
       "    .dataframe tbody tr th {\n",
       "        vertical-align: top;\n",
       "    }\n",
       "\n",
       "    .dataframe thead th {\n",
       "        text-align: right;\n",
       "    }\n",
       "</style>\n",
       "<table border=\"1\" class=\"dataframe\">\n",
       "  <thead>\n",
       "    <tr style=\"text-align: right;\">\n",
       "      <th></th>\n",
       "      <th>total_bill</th>\n",
       "      <th>tip</th>\n",
       "      <th>size</th>\n",
       "      <th>tip_percent</th>\n",
       "      <th>sex_Male</th>\n",
       "      <th>smoker_Yes</th>\n",
       "      <th>day_Sat</th>\n",
       "      <th>day_Sun</th>\n",
       "      <th>day_Thur</th>\n",
       "      <th>time_Lunch</th>\n",
       "    </tr>\n",
       "  </thead>\n",
       "  <tbody>\n",
       "    <tr>\n",
       "      <th>0</th>\n",
       "      <td>16.99</td>\n",
       "      <td>1.01</td>\n",
       "      <td>2</td>\n",
       "      <td>5.944673</td>\n",
       "      <td>0</td>\n",
       "      <td>0</td>\n",
       "      <td>0</td>\n",
       "      <td>1</td>\n",
       "      <td>0</td>\n",
       "      <td>0</td>\n",
       "    </tr>\n",
       "    <tr>\n",
       "      <th>1</th>\n",
       "      <td>10.34</td>\n",
       "      <td>1.66</td>\n",
       "      <td>3</td>\n",
       "      <td>16.054159</td>\n",
       "      <td>1</td>\n",
       "      <td>0</td>\n",
       "      <td>0</td>\n",
       "      <td>1</td>\n",
       "      <td>0</td>\n",
       "      <td>0</td>\n",
       "    </tr>\n",
       "    <tr>\n",
       "      <th>2</th>\n",
       "      <td>21.01</td>\n",
       "      <td>3.50</td>\n",
       "      <td>3</td>\n",
       "      <td>16.658734</td>\n",
       "      <td>1</td>\n",
       "      <td>0</td>\n",
       "      <td>0</td>\n",
       "      <td>1</td>\n",
       "      <td>0</td>\n",
       "      <td>0</td>\n",
       "    </tr>\n",
       "    <tr>\n",
       "      <th>3</th>\n",
       "      <td>23.68</td>\n",
       "      <td>3.31</td>\n",
       "      <td>2</td>\n",
       "      <td>13.978041</td>\n",
       "      <td>1</td>\n",
       "      <td>0</td>\n",
       "      <td>0</td>\n",
       "      <td>1</td>\n",
       "      <td>0</td>\n",
       "      <td>0</td>\n",
       "    </tr>\n",
       "    <tr>\n",
       "      <th>4</th>\n",
       "      <td>24.59</td>\n",
       "      <td>3.61</td>\n",
       "      <td>4</td>\n",
       "      <td>14.680765</td>\n",
       "      <td>0</td>\n",
       "      <td>0</td>\n",
       "      <td>0</td>\n",
       "      <td>1</td>\n",
       "      <td>0</td>\n",
       "      <td>0</td>\n",
       "    </tr>\n",
       "  </tbody>\n",
       "</table>\n",
       "</div>"
      ],
      "text/plain": [
       "   total_bill   tip  size  tip_percent  sex_Male  smoker_Yes  day_Sat  \\\n",
       "0       16.99  1.01     2     5.944673         0           0        0   \n",
       "1       10.34  1.66     3    16.054159         1           0        0   \n",
       "2       21.01  3.50     3    16.658734         1           0        0   \n",
       "3       23.68  3.31     2    13.978041         1           0        0   \n",
       "4       24.59  3.61     4    14.680765         0           0        0   \n",
       "\n",
       "   day_Sun  day_Thur  time_Lunch  \n",
       "0        1         0           0  \n",
       "1        1         0           0  \n",
       "2        1         0           0  \n",
       "3        1         0           0  \n",
       "4        1         0           0  "
      ]
     },
     "execution_count": 187,
     "metadata": {},
     "output_type": "execute_result"
    }
   ],
   "source": [
    "# convert boolean columns to integers (0/1)\n",
    "df = df.map(lambda x: int(x) if isinstance(x, bool) else x)\n",
    "# displaying first 5 rows to make sure our conversion is correct\n",
    "df.head()"
   ]
  },
  {
   "cell_type": "markdown",
   "id": "e80f55d7-701d-4255-90ed-8373a7ab36f7",
   "metadata": {},
   "source": [
    "## Splitting data into Features and Target"
   ]
  },
  {
   "cell_type": "code",
   "execution_count": 211,
   "id": "a5f19d0f-2dc0-4202-8e24-2bc0c90193cf",
   "metadata": {},
   "outputs": [],
   "source": [
    "# removing tip_percent and tip from input features\n",
    "X = df.drop([\"tip_percent\", \"tip\"], axis = 1)\n",
    "Y = df[\"tip\"]"
   ]
  },
  {
   "cell_type": "code",
   "execution_count": 196,
   "id": "f972281a-a0c0-4495-9b86-9cd3e87dffdc",
   "metadata": {},
   "outputs": [
    {
     "name": "stdout",
     "output_type": "stream",
     "text": [
      "torch.Size([243, 8])\n",
      "torch.Size([243, 1])\n"
     ]
    }
   ],
   "source": [
    "# convert variables to torch tensors\n",
    "X_t = torch.from_numpy(X.to_numpy()).float()\n",
    "Y_t = torch.from_numpy(Y.to_numpy()).float().unsqueeze(1)\n",
    "\n",
    "print(X_t.shape) # m X f\n",
    "print(Y_t.shape) # m X f"
   ]
  },
  {
   "cell_type": "code",
   "execution_count": 198,
   "id": "19f99469-175e-43a1-9e29-26e030729305",
   "metadata": {},
   "outputs": [],
   "source": [
    "# splitting data into train and test \n",
    "x_train, x_test, y_train, y_test = train_test_split(X_t, Y_t, test_size = 0.2, random_state = 42)"
   ]
  },
  {
   "cell_type": "code",
   "execution_count": 205,
   "id": "a2e1b296-ce1c-4530-b843-6844071f34d5",
   "metadata": {},
   "outputs": [
    {
     "name": "stdout",
     "output_type": "stream",
     "text": [
      "X train shape after splitting torch.Size([194, 8])\n",
      "Y train shape after splitting torch.Size([194, 1])\n"
     ]
    }
   ],
   "source": [
    "print(f\"X train shape after splitting {x_train.shape}\") # m X f\n",
    "print(f\"Y train shape after splitting {y_train.shape}\") # m X f"
   ]
  },
  {
   "cell_type": "code",
   "execution_count": 209,
   "id": "03b94172-8a37-4ffe-804b-e2129b996899",
   "metadata": {},
   "outputs": [],
   "source": [
    "# Model class\n",
    "class MultiLinearRegression(nn.Module):\n",
    "    def __init__(self, inp, out):\n",
    "        super(MultiLinearRegression, self).__init__()\n",
    "        self.linear = nn.Linear(inp, out)\n",
    "\n",
    "    def forward(self, x):\n",
    "        y_hat = self.linear(x)\n",
    "        return y_hat"
   ]
  },
  {
   "cell_type": "code",
   "execution_count": 261,
   "id": "4bd5f8b1-f385-4d63-a7ee-d735dfe7d56d",
   "metadata": {},
   "outputs": [],
   "source": [
    "in_f = X.columns.shape[0] # 8 features\n",
    "out_f = 1 # 1 output\n",
    "# Model intialization\n",
    "model = MultiLinearRegression(in_f, out_f)"
   ]
  },
  {
   "cell_type": "code",
   "execution_count": 262,
   "id": "e9043697-d12b-417c-8840-21f95ff44862",
   "metadata": {},
   "outputs": [],
   "source": [
    "# Loss function\n",
    "criterion = nn.MSELoss()\n",
    "# SGD Optimizer\n",
    "optimizer = optim.SGD(model.parameters(), lr=0.001)"
   ]
  },
  {
   "cell_type": "markdown",
   "id": "d62625bc-5e19-4662-9c8c-ad857d6628be",
   "metadata": {},
   "source": [
    "## Model Training"
   ]
  },
  {
   "cell_type": "code",
   "execution_count": 263,
   "id": "9fff0378-bc12-4590-9dc4-f35daded0c34",
   "metadata": {},
   "outputs": [
    {
     "name": "stdout",
     "output_type": "stream",
     "text": [
      "epoch 0, loss 81.85021209716797\n",
      "epoch 10, loss 1.0603761672973633\n",
      "epoch 20, loss 1.0596656799316406\n",
      "epoch 30, loss 1.0589654445648193\n",
      "epoch 40, loss 1.058275818824768\n",
      "epoch 50, loss 1.057596206665039\n"
     ]
    },
    {
     "data": {
      "image/png": "[encoded data removed]",
      "text/plain": [
       "<Figure size 640x480 with 1 Axes>"
      ]
     },
     "metadata": {},
     "output_type": "display_data"
    }
   ],
   "source": [
    "EPOCHS = 60\n",
    "losses = []  # Store losses\n",
    "for epoch in range(EPOCHS):\n",
    "    model.train()\n",
    "    # clear gradients from previous epoch\n",
    "    optimizer.zero_grad()\n",
    "    # getting the predicted output\n",
    "    y_hat = model(x_train)\n",
    "    # compute loss between predicted and target output\n",
    "    loss = criterion(y_hat, y_train)\n",
    "    # storing loss to the losses list\n",
    "    losses.append(loss.item())\n",
    "    # compute gradients w.r.t each parameter\n",
    "    loss.backward()\n",
    "    # update parameters\n",
    "    optimizer.step()\n",
    "\n",
    "    # display metrics after 10 epochs\n",
    "    if epoch % 10 == 0:\n",
    "        print('epoch {}, loss {}'.format(epoch, loss.item()))\n",
    "\n",
    "plt.plot(range(EPOCHS), losses, label=\"Training Loss\")\n",
    "plt.xlabel(\"Epochs\")\n",
    "plt.ylabel(\"Loss\")\n",
    "plt.title(\"Training Loss Curve\")\n",
    "plt.legend()\n",
    "plt.show()"
   ]
  },
  {
   "cell_type": "markdown",
   "id": "98611608-e586-4b1f-86de-b63893bd7c52",
   "metadata": {},
   "source": [
    "## Model evaluation"
   ]
  },
  {
   "cell_type": "code",
   "execution_count": 294,
   "id": "68db7165-24f0-476e-81bd-fce8e66d2fb4",
   "metadata": {},
   "outputs": [
    {
     "name": "stdout",
     "output_type": "stream",
     "text": [
      "Predicted tip for tensor([19.8200,  2.0000,  1.0000,  0.0000,  1.0000,  0.0000,  0.0000,  0.0000]) is 2.51\n"
     ]
    }
   ],
   "source": [
    "model.eval()\n",
    "with torch.no_grad(): # get rid of gradient computation during test phase\n",
    "    output = model(x_test)\n",
    "print(f\"Predicted tip for {x_test[0]} is {round(float(output[0]), 2)}\")"
   ]
  },
  {
   "cell_type": "markdown",
   "id": "699389e2-190e-4583-af5b-06d7b23a3b50",
   "metadata": {},
   "source": [
    "## Evaluating on new input"
   ]
  },
  {
   "cell_type": "code",
   "execution_count": 295,
   "id": "77e7b547-02d3-40ff-9fe5-c35dd592d7de",
   "metadata": {},
   "outputs": [],
   "source": [
    "new_input = {\n",
    "    \"total_bill\": 85,\n",
    "    \"size\": 6,           \n",
    "    \"sex\": \"Femle\",       \n",
    "    \"smoker\": \"No\",     \n",
    "    \"day\": \"Sun\",        \n",
    "    \"time\": \"Dinner\"      \n",
    "}\n",
    "\n",
    "# convert to DataFrame\n",
    "input_df = pd.DataFrame([new_input])"
   ]
  },
  {
   "cell_type": "markdown",
   "id": "8d30e5e1-b4ca-448f-a105-c4ecf53646c1",
   "metadata": {},
   "source": [
    "We will apply OHE on newly added inputs to match inputs used while the training phase"
   ]
  },
  {
   "cell_type": "code",
   "execution_count": 296,
   "id": "bdeb63a3-1c37-4279-ae85-35a125817e73",
   "metadata": {},
   "outputs": [
    {
     "data": {
      "text/html": [
       "<div>\n",
       "<style scoped>\n",
       "    .dataframe tbody tr th:only-of-type {\n",
       "        vertical-align: middle;\n",
       "    }\n",
       "\n",
       "    .dataframe tbody tr th {\n",
       "        vertical-align: top;\n",
       "    }\n",
       "\n",
       "    .dataframe thead th {\n",
       "        text-align: right;\n",
       "    }\n",
       "</style>\n",
       "<table border=\"1\" class=\"dataframe\">\n",
       "  <thead>\n",
       "    <tr style=\"text-align: right;\">\n",
       "      <th></th>\n",
       "      <th>total_bill</th>\n",
       "      <th>size</th>\n",
       "      <th>sex_Femle</th>\n",
       "      <th>smoker_No</th>\n",
       "      <th>day_Sun</th>\n",
       "      <th>time_Dinner</th>\n",
       "    </tr>\n",
       "  </thead>\n",
       "  <tbody>\n",
       "    <tr>\n",
       "      <th>0</th>\n",
       "      <td>85</td>\n",
       "      <td>6</td>\n",
       "      <td>1</td>\n",
       "      <td>1</td>\n",
       "      <td>1</td>\n",
       "      <td>1</td>\n",
       "    </tr>\n",
       "  </tbody>\n",
       "</table>\n",
       "</div>"
      ],
      "text/plain": [
       "   total_bill  size  sex_Femle  smoker_No  day_Sun  time_Dinner\n",
       "0          85     6          1          1        1            1"
      ]
     },
     "execution_count": 296,
     "metadata": {},
     "output_type": "execute_result"
    }
   ],
   "source": [
    "categorical_columns = ['sex', 'smoker', 'day', 'time']\n",
    "input_df = pd.get_dummies(input_df, columns=categorical_columns)\n",
    "input_df = input_df.map(lambda x: int(x) if isinstance(x, bool) else x)\n",
    "input_df"
   ]
  },
  {
   "cell_type": "markdown",
   "id": "8ea52325-a426-4190-8c6a-3923eac5a4b8",
   "metadata": {},
   "source": [
    "No the dataframe missing 2 other column which are ('day_Sun',\n",
    "       'day_Thur') so we will add them and set them to 0 and any missing column will be filled with 0 that indicates the value in the original dataframe"
   ]
  },
  {
   "cell_type": "code",
   "execution_count": 299,
   "id": "6b068f0d-868e-4262-b6ca-3ef34aca9f4f",
   "metadata": {},
   "outputs": [
    {
     "name": "stdout",
     "output_type": "stream",
     "text": [
      "[ True  True  True  True  True  True  True  True]\n"
     ]
    },
    {
     "data": {
      "text/html": [
       "<div>\n",
       "<style scoped>\n",
       "    .dataframe tbody tr th:only-of-type {\n",
       "        vertical-align: middle;\n",
       "    }\n",
       "\n",
       "    .dataframe tbody tr th {\n",
       "        vertical-align: top;\n",
       "    }\n",
       "\n",
       "    .dataframe thead th {\n",
       "        text-align: right;\n",
       "    }\n",
       "</style>\n",
       "<table border=\"1\" class=\"dataframe\">\n",
       "  <thead>\n",
       "    <tr style=\"text-align: right;\">\n",
       "      <th></th>\n",
       "      <th>total_bill</th>\n",
       "      <th>size</th>\n",
       "      <th>sex_Male</th>\n",
       "      <th>smoker_Yes</th>\n",
       "      <th>day_Sat</th>\n",
       "      <th>day_Sun</th>\n",
       "      <th>day_Thur</th>\n",
       "      <th>time_Lunch</th>\n",
       "    </tr>\n",
       "  </thead>\n",
       "  <tbody>\n",
       "    <tr>\n",
       "      <th>0</th>\n",
       "      <td>85</td>\n",
       "      <td>6</td>\n",
       "      <td>0</td>\n",
       "      <td>0</td>\n",
       "      <td>0</td>\n",
       "      <td>1</td>\n",
       "      <td>0</td>\n",
       "      <td>0</td>\n",
       "    </tr>\n",
       "  </tbody>\n",
       "</table>\n",
       "</div>"
      ],
      "text/plain": [
       "   total_bill  size  sex_Male  smoker_Yes  day_Sat  day_Sun  day_Thur  \\\n",
       "0          85     6         0           0        0        1         0   \n",
       "\n",
       "   time_Lunch  \n",
       "0           0  "
      ]
     },
     "execution_count": 299,
     "metadata": {},
     "output_type": "execute_result"
    }
   ],
   "source": [
    "# features used in training phase\n",
    "expected_features = ['total_bill', 'size', 'sex_Male', 'smoker_Yes', 'day_Sat', 'day_Sun', 'day_Thur', 'time_Lunch']\n",
    "\n",
    "for col in expected_features:\n",
    "    # check whether if they exist the new dataframe or not\n",
    "    if col not in input_df.columns:\n",
    "        input_df[col] = 0  # if missing, set to 0\n",
    "# check the order of columns in input_df matching order of columns in original X used in training\n",
    "input_df = input_df[X.columns]\n",
    "\n",
    "print(input_df.columns == X.columns)\n",
    "input_df"
   ]
  },
  {
   "cell_type": "code",
   "execution_count": 300,
   "id": "8c3953c9-97d2-4e19-a97c-48f0f402e81a",
   "metadata": {},
   "outputs": [
    {
     "data": {
      "text/plain": [
       "tensor([[85.,  6.,  0.,  0.,  0.,  1.,  0.,  0.]])"
      ]
     },
     "execution_count": 300,
     "metadata": {},
     "output_type": "execute_result"
    }
   ],
   "source": [
    "input_t = torch.tensor(input_df.values, dtype=torch.float32)\n",
    "input_t"
   ]
  },
  {
   "cell_type": "code",
   "execution_count": 301,
   "id": "ac9b08be-31e8-41e9-b2b3-d04f3c4f4f83",
   "metadata": {},
   "outputs": [
    {
     "name": "stdout",
     "output_type": "stream",
     "text": [
      "Predicted Tip is 9.8\n"
     ]
    }
   ],
   "source": [
    "model.eval()\n",
    "with torch.no_grad():\n",
    "    predicted_tip = model(input_t)\n",
    "\n",
    "print(f\"Predicted Tip is {round(float(predicted_tip), 2)}\")"
   ]
  }
 ],
 "metadata": {
  "kernelspec": {
   "display_name": "Python 3 (ipykernel)",
   "language": "python",
   "name": "python3"
  },
  "language_info": {
   "codemirror_mode": {
    "name": "ipython",
    "version": 3
   },
   "file_extension": ".py",
   "mimetype": "text/x-python",
   "name": "python",
   "nbconvert_exporter": "python",
   "pygments_lexer": "ipython3",
   "version": "3.12.4"
  }
 },
 "nbformat": 4,
 "nbformat_minor": 5
}
